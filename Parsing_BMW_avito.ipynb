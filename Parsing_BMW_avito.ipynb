{
 "cells": [
  {
   "cell_type": "markdown",
   "metadata": {},
   "source": [
    "# Парсинг Авито: получение информации об автомобилях BMW с пробегом в г. Москве"
   ]
  },
  {
   "cell_type": "markdown",
   "metadata": {},
   "source": [
    "Парсинг проведен путем перебора страниц нашего запроса, получения ссылок на каждый автомобиль в поиске \n",
    "и выбора необходимых данных по автомобилю с этой ссылки"
   ]
  },
  {
   "cell_type": "code",
   "execution_count": null,
   "metadata": {},
   "outputs": [],
   "source": [
    "# загрузка библиотек\n",
    "\n",
    "import requests\n",
    "import time\n",
    "from bs4 import BeautifulSoup\n",
    "\n",
    "n_page =86 #количество страниц для парсинга\n",
    "url_base = 'https://www.avito.ru/moskva/avtomobili/s_probegom/bmw-ASgBAgICAkSGFMjmAeC2DeSXKA?radius=100&f=ASgBAgECA0TyCrCKAYYUyOYB4LYN5JcoAUX4Ahl7ImZyb20iOm51bGwsInRvIjo0MDUyNDJ9&i=1&p='\n",
    "headers = {'User-Agent': 'Opera 68.0.3618.173 (WebKit 537.36)'} # 'Mozilla/5.0 (Windows NT 5.1) AppleWebKit/537.36 (KHTML, like Gecko) Chrome/41.0.2224.3 Safari/537.36'}  \n",
    "proxies = ['77.75.6.34','95.84.137.193','194.44.243.186']\n",
    "\n",
    "#объявление переменных\n",
    "\n",
    "list_desc = []\n",
    "list_price = []\n",
    "list_dic = []\n",
    "list_params = ['Марка', 'Модель', 'Поколение', 'Модификация', 'Год выпуска', 'Пробег', 'Состояние', 'Владельцев по ПТС', \n",
    "               'Тип кузова', 'Количество дверей', 'Тип двигателя', 'Коробка передач', 'Привод', 'Руль', 'Цвет', 'Комплектация']\n",
    "dic_params = {'Марка':'', \n",
    "              'Модель':'', \n",
    "              'Поколение':'', \n",
    "              'Модификация':'', \n",
    "              'Год выпуска':'', \n",
    "              'Пробег':'', \n",
    "              'Состояние':'', \n",
    "              'Владельцев по ПТС':'', \n",
    "              'Тип кузова':'', \n",
    "              'Количество дверей':'', \n",
    "              'Тип двигателя':'', \n",
    "              'Коробка передач':'', \n",
    "              'Привод':'', \n",
    "              'Руль':'', \n",
    "              'Цвет':'', \n",
    "              'Комплектация': ''}"
   ]
  },
  {
   "cell_type": "code",
   "execution_count": null,
   "metadata": {},
   "outputs": [],
   "source": [
    "    \n",
    "def pars_link (links):    \n",
    "   # функция предназначена для парсинга страницы с описанием автомобиля\n",
    "\n",
    "    dic_params = {'Марка':'', \n",
    "              'Модель':'', \n",
    "              'Поколение':'', \n",
    "              'Модификация':'', \n",
    "              'Год выпуска':'', \n",
    "              'Пробег':'', \n",
    "              'Состояние':'', \n",
    "              'Владельцев по ПТС':'', \n",
    "              'Тип кузова':'', \n",
    "              'Количество дверей':'', \n",
    "              'Тип двигателя':'', \n",
    "              'Коробка передач':'', \n",
    "              'Привод':'', \n",
    "              'Руль':'', \n",
    "              'Цвет':'', \n",
    "              'Комплектация': ''}\n",
    "    \n",
    "    url_link = links\n",
    "    headers = {'User-Agent': 'Mozilla/5.0 (Windows NT 5.1) AppleWebKit/537.36 (KHTML, like Gecko) Chrome/41.0.2224.3 Safari/537.36'}\n",
    "   # proxy = {'http': 'http://' + proxies[1]}\n",
    "    r_link = requests.get(url_link, headers=headers)\n",
    "    soup_link = BeautifulSoup(r_link.text)\n",
    "    \n",
    "    try:\n",
    "        price_link = soup_link.select_one('.js-item-price')\n",
    "        dic_params['Price'] = price_link.get_text().replace(' ','')    # полчение цены\n",
    "\n",
    "\n",
    "        describe_link = soup_link.select('div.item-description')\n",
    "        dic_params['Describe'] = describe_link                         # получение описания к объявлению\n",
    "        print('ok')\n",
    "    \n",
    "    except:\n",
    "        print ('проблема:', r_link)   # при наличии пустых данных \n",
    "        \n",
    "    car_link = soup_link.select('.item-params-list-item')   # получение данных их блока характеристик автомобиля\n",
    "\n",
    "    n = len(car_link)\n",
    "    for label in range (0,n):\n",
    "        param = car_link[label].get_text()\n",
    "        param = param.split(':')\n",
    "        param[0] = param[0].strip()\n",
    "        param[1] = param[1].strip()\n",
    "        if param[0] in list_params:\n",
    "            dic_params[param[0]] = param[1]\n",
    "\n",
    "    list_dic.append(dic_params.copy())\n",
    "    time.sleep(3)\n",
    "    return 'ok'\n",
    "\n",
    "\n",
    "for page in range (1, n_page):         # перебор страниц в нашем запросе\n",
    "    url = url_base + str(page)\n",
    "    print(page)\n",
    "    #proxy = {'http': 'http://' + proxies[0]}\n",
    "    r = requests.get(url, headers=headers)\n",
    "    soup = BeautifulSoup(r.text)\n",
    "    car = soup.select('.snippet-link')\n",
    "   # page += 1\n",
    "    for x in car:\n",
    "        hrefs = x['href']\n",
    "        if 'moskva/avtomobili' in hrefs:\n",
    "            links = 'http://www.avito.ru' + hrefs\n",
    "            print(links)\n",
    "            pars_link(links)"
   ]
  },
  {
   "cell_type": "code",
   "execution_count": null,
   "metadata": {},
   "outputs": [],
   "source": [
    "# преобразование в датафрейм\n",
    "\n",
    "pd_params88 = pd.DataFrame.from_dict(list_dic)"
   ]
  },
  {
   "cell_type": "code",
   "execution_count": null,
   "metadata": {},
   "outputs": [],
   "source": [
    "# сохранение в файл\n",
    "\n",
    "pd_params88.to_csv(r'car_1_88.csv', index=False)"
   ]
  }
 ],
 "metadata": {
  "kernelspec": {
   "display_name": "Python 3",
   "language": "python",
   "name": "python3"
  },
  "language_info": {
   "codemirror_mode": {
    "name": "ipython",
    "version": 3
   },
   "file_extension": ".py",
   "mimetype": "text/x-python",
   "name": "python",
   "nbconvert_exporter": "python",
   "pygments_lexer": "ipython3",
   "version": "3.7.4"
  }
 },
 "nbformat": 4,
 "nbformat_minor": 2
}
